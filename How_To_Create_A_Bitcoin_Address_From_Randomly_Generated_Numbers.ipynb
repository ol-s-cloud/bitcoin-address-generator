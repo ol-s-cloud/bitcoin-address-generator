{
  "nbformat": 4,
  "nbformat_minor": 0,
  "metadata": {
    "colab": {
      "provenance": [],
      "authorship_tag": "ABX9TyMW6tMpcMa8aLQQk2ZxdWHr",
      "include_colab_link": true
    },
    "kernelspec": {
      "name": "python3",
      "display_name": "Python 3"
    },
    "language_info": {
      "name": "python"
    }
  },
  "cells": [
    {
      "cell_type": "markdown",
      "metadata": {
        "id": "view-in-github",
        "colab_type": "text"
      },
      "source": [
        "<a href=\"https://colab.research.google.com/github/ol-s-cloud/bitcoin-address-generator/blob/main/How_To_Create_A_Bitcoin_Address_From_Randomly_Generated_Numbers.ipynb\" target=\"_parent\"><img src=\"https://colab.research.google.com/assets/colab-badge.svg\" alt=\"Open In Colab\"/></a>"
      ]
    },
    {
      "cell_type": "markdown",
      "source": [
        "Hi!\n",
        "\n",
        "My name is Sa'id.\n",
        "\n",
        "Welcome To This Collaboratory Notebook.\n",
        "\n",
        "<br>In the next few lines of codes, we shall be illustrating how to create a bitcoin wallet address from randomly generated hexadecimal numbers using the python programming language.\n",
        "\n",
        "PS: This is for educational purposes only.\n",
        "\n",
        "Technical Document Here - https://en.bitcoin.it/wiki/Technical_background_of_version_1_Bitcoin_addresses"
      ],
      "metadata": {
        "id": "nqHM84fk7s2b"
      }
    },
    {
      "cell_type": "code",
      "source": [
        "#First we import the Python hash Libraries\n",
        "# Reference: https://docs.python.org/3/library/hashlib.html\n",
        "import hashlib"
      ],
      "metadata": {
        "id": "TDdNxvMV9Q8p"
      },
      "execution_count": null,
      "outputs": []
    },
    {
      "cell_type": "code",
      "source": [
        "#Next we import the codecs library\n",
        "# Reference: https://docs.python.org/3/library/codecs.html\n",
        "import codecs"
      ],
      "metadata": {
        "id": "e2iyW6mhKT5F"
      },
      "execution_count": null,
      "outputs": []
    },
    {
      "cell_type": "markdown",
      "source": [
        "And then we install the Elliptic Curve Cryptography environment.\n",
        "You can read more about this here - https://en.bitcoin.it/wiki/Elliptic_Curve_Digital_Signature_Algorithm"
      ],
      "metadata": {
        "id": "Y5sj69IdMB1l"
      }
    },
    {
      "cell_type": "code",
      "source": [
        "pip install ecdsa"
      ],
      "metadata": {
        "colab": {
          "base_uri": "https://localhost:8080/"
        },
        "id": "m50g1ay9KmmN",
        "outputId": "cfea7cc1-23f9-4eb0-b658-bab2b6f7a860"
      },
      "execution_count": null,
      "outputs": [
        {
          "output_type": "stream",
          "name": "stdout",
          "text": [
            "Looking in indexes: https://pypi.org/simple, https://us-python.pkg.dev/colab-wheels/public/simple/\n",
            "Requirement already satisfied: ecdsa in /usr/local/lib/python3.7/dist-packages (0.18.0)\n",
            "Requirement already satisfied: six>=1.9.0 in /usr/local/lib/python3.7/dist-packages (from ecdsa) (1.15.0)\n"
          ]
        }
      ]
    },
    {
      "cell_type": "markdown",
      "source": [
        "And next we install Base58\n",
        "https://en.bitcoin.it/wiki/Base58Check_encoding"
      ],
      "metadata": {
        "id": "duFdBapcMSpn"
      }
    },
    {
      "cell_type": "code",
      "source": [
        "pip install base58"
      ],
      "metadata": {
        "colab": {
          "base_uri": "https://localhost:8080/"
        },
        "id": "4WbaH7Y0LioQ",
        "outputId": "5a77a6f2-dffe-455b-c4e3-5644db0ec649"
      },
      "execution_count": null,
      "outputs": [
        {
          "output_type": "stream",
          "name": "stdout",
          "text": [
            "Looking in indexes: https://pypi.org/simple, https://us-python.pkg.dev/colab-wheels/public/simple/\n",
            "Requirement already satisfied: base58 in /usr/local/lib/python3.7/dist-packages (2.1.1)\n"
          ]
        }
      ]
    },
    {
      "cell_type": "code",
      "source": [
        "# Now we import the ECDSA library to this notebook which will serve as our python programming environment\n",
        "import ecdsa"
      ],
      "metadata": {
        "id": "F4g076hiL4CF"
      },
      "execution_count": null,
      "outputs": []
    },
    {
      "cell_type": "code",
      "source": [
        "#Followed by importing base58 we just installed too\n",
        "import base58"
      ],
      "metadata": {
        "id": "rLEFxHryMiW6"
      },
      "execution_count": null,
      "outputs": []
    },
    {
      "cell_type": "markdown",
      "source": [
        "Now we have our environment fully set up and ready to perform some cryptographic operations and python functions as outlined in the technical document here - https://en.bitcoin.it/wiki/Technical_background_of_version_1_Bitcoin_addresses\n",
        "\n",
        "To get started we need 64 digit Hexadecimal numbers that will be our private keys. You could use an online generator or come up with random numbers from your brain - just make sure they follow the mathematical standards of hexadecimal numbers and meet up with the bitcoin private key criterias as outlined here - https://en.wikipedia.org/wiki/Hexadecimal and here - https://en.bitcoin.it/wiki/BIP_0137\n",
        "\n",
        "For this tutorial we shall be working with hexadecimal numbers generated via - https://www.browserling.com/tools/random-hex\n",
        "\n",
        "PS: This is not an endorsement, only for educational purposes only. Only work with hexadecimal private keys that you trust or generate from sites that you trust. If you search online there are several others including https://www.bitaddress.org/ amongst several others. You could even come up with one from your brain. Probability that two people will come up with identical private keys is so rare infact it is more likely for the earth to be destroyed in the next 5 seconds than for two people to come up with the same private key in the next millenium. So there you have it! Lets grab our private keys here https://www.browserling.com/tools/random-hex and remember we need 64 digits."
      ],
      "metadata": {
        "id": "s-T0nOgSMw8F"
      }
    },
    {
      "cell_type": "code",
      "source": [
        "# Now we define our private key so that when we need to work with it, Python knows what we are asking it to provide\n",
        "\n",
        "private_key = \"7b0cda14ab09ebeceb460d47b92f959f02540436c98147a81bd07700ea6a9e6a\"\n",
        "private_key"
      ],
      "metadata": {
        "colab": {
          "base_uri": "https://localhost:8080/",
          "height": 35
        },
        "id": "sRfiVpJFO_EF",
        "outputId": "e4dd65f5-4189-4166-eb7f-2f966074dfd7"
      },
      "execution_count": null,
      "outputs": [
        {
          "output_type": "execute_result",
          "data": {
            "text/plain": [
              "'7b0cda14ab09ebeceb460d47b92f959f02540436c98147a81bd07700ea6a9e6a'"
            ],
            "application/vnd.google.colaboratory.intrinsic+json": {
              "type": "string"
            }
          },
          "metadata": {},
          "execution_count": 17
        }
      ]
    },
    {
      "cell_type": "code",
      "source": [
        "# Great! You are doing a great job so far! This is where the main work begins so brace yourselves Satoshi!"
      ],
      "metadata": {
        "id": "0pQVHNYZPP2o"
      },
      "execution_count": null,
      "outputs": []
    },
    {
      "cell_type": "code",
      "source": [
        "# First we decode the private key we have from hexadecimal to bytes. This defines our private key in bytes as below\n",
        "private_key_bytes = codecs.decode(private_key, 'hex')"
      ],
      "metadata": {
        "id": "5WWYm-KJPcK4"
      },
      "execution_count": null,
      "outputs": []
    },
    {
      "cell_type": "code",
      "source": [
        "#Next we define our raw public key by carrying out the elliptic curve crypotgraphy operation here\n",
        "#Here we perform the ecdsa operation on the private key bytes and specify the SECP256K1 parameter to be used.\n",
        "# You can read more here - https://en.bitcoin.it/wiki/Secp256k1\n",
        "# Take note that this is an Assymetric operation and can only take place in one-way. This also gives our bitcoin address the ability to generate digital signatures\n",
        "# you can read more here - https://github.com/bitcoinbook/bitcoinbook/blob/develop/ch04.asciidoc and here - https://pypi.org/project/ecdsa/\n",
        "public_key_raw = ecdsa.SigningKey.from_string(private_key_bytes, curve=ecdsa.SECP256k1).verifying_key"
      ],
      "metadata": {
        "id": "JIIxz95nPmOG"
      },
      "execution_count": null,
      "outputs": []
    },
    {
      "cell_type": "code",
      "source": [
        "#Don't Stress yourself if you dont understand it's okay. Ignore the comments and just take the codes alone."
      ],
      "metadata": {
        "id": "IIGF5xY_RrDL"
      },
      "execution_count": null,
      "outputs": []
    },
    {
      "cell_type": "code",
      "source": [
        "#Here we convert the public key raw which is the outcome of the ecdsa operation to bytes.\n",
        "# Its a little confusing but python is defining public key bytes from the perspective of the public key raw that we got earlier\n",
        "# do you understand? never mind, lets move on. But define public key bytes using the code below becase we need it\n",
        "public_key_bytes = public_key_raw.to_string()"
      ],
      "metadata": {
        "id": "Sm7nSqqLRzkk"
      },
      "execution_count": null,
      "outputs": []
    },
    {
      "cell_type": "code",
      "source": [
        "# Now we encode that back to hexadecimal\n",
        "public_key_hex = codecs.encode(public_key_bytes, 'hex')"
      ],
      "metadata": {
        "id": "gf2Dt_qnSdly"
      },
      "execution_count": null,
      "outputs": []
    },
    {
      "cell_type": "code",
      "source": [
        "# As part of the bitcoin public key address criteria,\n",
        "# see https://en.bitcoin.it/wiki/List_of_address_prefixes and https://en.bitcoin.it/wiki/BIP_0032\n",
        "# So now we add 04 to the front of it to follow this required criteria\n",
        "public_key = (b'04' + public_key_hex).decode(\"utf-8\")\n"
      ],
      "metadata": {
        "id": "XVFc1Sz8SsAO"
      },
      "execution_count": null,
      "outputs": []
    },
    {
      "cell_type": "code",
      "source": [
        "#Now let's check what our public key looks like\n",
        "public_key"
      ],
      "metadata": {
        "colab": {
          "base_uri": "https://localhost:8080/",
          "height": 35
        },
        "id": "NhlCdQxBUMs8",
        "outputId": "0749e900-0503-4df4-80d3-b9bf0749445a"
      },
      "execution_count": null,
      "outputs": [
        {
          "output_type": "execute_result",
          "data": {
            "text/plain": [
              "'04383c05b1f5f4bf00f9c6098abb203c1ad770acde9561b07007ddf173f4b8232d1909734b37405e0f56e93adb4fd1909d3d33309ea11e4c6f7fab77892f172978'"
            ],
            "application/vnd.google.colaboratory.intrinsic+json": {
              "type": "string"
            }
          },
          "metadata": {},
          "execution_count": 35
        }
      ]
    },
    {
      "cell_type": "code",
      "source": [
        "if (ord(bytearray.fromhex(public_key[-2:]))%2 == 0):\n",
        "  public_key_compressed = '02'\n",
        "else:\n",
        "  public_key_compressed = '03'\n",
        "  public_key_compressed += public_key[2:66]\n",
        "\n",
        "public_key_compressed\n",
        "print(public_key_compressed)\n",
        "#This gives us a compressed public key"
      ],
      "metadata": {
        "colab": {
          "base_uri": "https://localhost:8080/"
        },
        "id": "k_Oztg3hUT_8",
        "outputId": "2f2b4a13-74ce-4158-de69-18e05636f192"
      },
      "execution_count": null,
      "outputs": [
        {
          "output_type": "stream",
          "name": "stdout",
          "text": [
            "02\n"
          ]
        }
      ]
    },
    {
      "cell_type": "code",
      "source": [
        "hex_str = bytearray.fromhex(public_key_compressed)\n",
        "sha = hashlib.sha256()\n",
        "sha.update(hex_str)\n",
        "\n",
        "sha.hexdigest() # .hexdigest() is hex ASCII\n",
        "#We carry out a SHA 256 Hashing here as contained in the technical architecture here -https://en.bitcoin.it/wiki/Technical_background_of_version_1_Bitcoin_addresses\n",
        "\n"
      ],
      "metadata": {
        "colab": {
          "base_uri": "https://localhost:8080/",
          "height": 35
        },
        "id": "VbPBa1AgVfgW",
        "outputId": "43527951-1814-4ee5-9a1c-d6edd7ecca17"
      },
      "execution_count": null,
      "outputs": [
        {
          "output_type": "execute_result",
          "data": {
            "text/plain": [
              "'dbc1b4c900ffe48d575b5da5c638040125f65db0fe3e24494b76ea986457d986'"
            ],
            "application/vnd.google.colaboratory.intrinsic+json": {
              "type": "string"
            }
          },
          "metadata": {},
          "execution_count": 51
        }
      ]
    },
    {
      "cell_type": "code",
      "source": [
        "rip = hashlib.new('ripemd160')\n",
        "rip.update(sha.digest())\n",
        "key_hash = rip.hexdigest()\n",
        "key_hash # Hash160\n",
        "\n",
        "#Here further hashing operations are performed"
      ],
      "metadata": {
        "colab": {
          "base_uri": "https://localhost:8080/",
          "height": 35
        },
        "id": "WEMrhqtTVmgP",
        "outputId": "b8fd8106-eaf8-4956-d4ba-e4fe3651df51"
      },
      "execution_count": null,
      "outputs": [
        {
          "output_type": "execute_result",
          "data": {
            "text/plain": [
              "'a6bb94c8792c395785787280dc188d114e1f339b'"
            ],
            "application/vnd.google.colaboratory.intrinsic+json": {
              "type": "string"
            }
          },
          "metadata": {},
          "execution_count": 52
        }
      ]
    },
    {
      "cell_type": "code",
      "source": [
        "modified_key_hash = \"00\" + key_hash\n",
        "modified_key_hash\n",
        "# A modification of the previous hash operation is carried out here\n",
        "# we add 00 to the front to specify it's for the mainnet blockchain\n",
        "# See protocol documentation here - https://en.bitcoin.it/wiki/Protocol_documentation"
      ],
      "metadata": {
        "colab": {
          "base_uri": "https://localhost:8080/",
          "height": 35
        },
        "id": "f33R9delVvsN",
        "outputId": "73ab23bf-c794-48e6-d32c-5e7b00d185cd"
      },
      "execution_count": null,
      "outputs": [
        {
          "output_type": "execute_result",
          "data": {
            "text/plain": [
              "'00a6bb94c8792c395785787280dc188d114e1f339b'"
            ],
            "application/vnd.google.colaboratory.intrinsic+json": {
              "type": "string"
            }
          },
          "metadata": {},
          "execution_count": 53
        }
      ]
    },
    {
      "cell_type": "code",
      "source": [
        "sha = hashlib.sha256()\n",
        "hex_str = bytearray.fromhex(modified_key_hash)\n",
        "sha.update(hex_str)\n",
        "sha.hexdigest()\n",
        "# Another hashing operation"
      ],
      "metadata": {
        "colab": {
          "base_uri": "https://localhost:8080/",
          "height": 35
        },
        "id": "NlpLwpYhV0vR",
        "outputId": "cdca41bf-736b-4801-9830-7ba408c9016d"
      },
      "execution_count": null,
      "outputs": [
        {
          "output_type": "execute_result",
          "data": {
            "text/plain": [
              "'6a524aa4f1cd2f1df9c5225f7630424aa12b4030f23fb76e65d95f348b0e9f26'"
            ],
            "application/vnd.google.colaboratory.intrinsic+json": {
              "type": "string"
            }
          },
          "metadata": {},
          "execution_count": 54
        }
      ]
    },
    {
      "cell_type": "code",
      "source": [
        "sha_2 = hashlib.sha256()\n",
        "sha_2.update(sha.digest())\n",
        "\n",
        "sha_2.hexdigest()\n",
        "#Another hashing operation\n"
      ],
      "metadata": {
        "colab": {
          "base_uri": "https://localhost:8080/",
          "height": 35
        },
        "id": "smUpSNEvV4-t",
        "outputId": "756f8ca0-4a35-44a6-c078-795a63ff93d8"
      },
      "execution_count": null,
      "outputs": [
        {
          "output_type": "execute_result",
          "data": {
            "text/plain": [
              "'cf20c97f0ef73b2572ac09f47bcfb92ef759c0f50578c41f8f44b829cfe8d711'"
            ],
            "application/vnd.google.colaboratory.intrinsic+json": {
              "type": "string"
            }
          },
          "metadata": {},
          "execution_count": 55
        }
      ]
    },
    {
      "cell_type": "code",
      "source": [
        "checksum = sha_2.hexdigest()[:8]\n",
        "checksum\n",
        "#Here we carry out a checksum and as python to give us the first 8 digits which will be 4bytes to be added to the main address\n"
      ],
      "metadata": {
        "colab": {
          "base_uri": "https://localhost:8080/",
          "height": 35
        },
        "id": "zQuGIseWV8BO",
        "outputId": "1256d447-9e48-450e-943c-ab24b75c56bb"
      },
      "execution_count": null,
      "outputs": [
        {
          "output_type": "execute_result",
          "data": {
            "text/plain": [
              "'cf20c97f'"
            ],
            "application/vnd.google.colaboratory.intrinsic+json": {
              "type": "string"
            }
          },
          "metadata": {},
          "execution_count": 56
        }
      ]
    },
    {
      "cell_type": "code",
      "source": [
        "byte_25_address = modified_key_hash + checksum\n",
        "byte_25_address\n",
        "#Here we have the modified key has with the checksum value added to the end to give us a byte25 address\n"
      ],
      "metadata": {
        "colab": {
          "base_uri": "https://localhost:8080/",
          "height": 35
        },
        "id": "h-GiXoMyWBir",
        "outputId": "d5bc504a-6368-4180-bbf0-d8b09bbf83a2"
      },
      "execution_count": null,
      "outputs": [
        {
          "output_type": "execute_result",
          "data": {
            "text/plain": [
              "'00a6bb94c8792c395785787280dc188d114e1f339bcf20c97f'"
            ],
            "application/vnd.google.colaboratory.intrinsic+json": {
              "type": "string"
            }
          },
          "metadata": {},
          "execution_count": 57
        }
      ]
    },
    {
      "cell_type": "code",
      "source": [
        "address = base58.b58encode(bytes(bytearray.fromhex(byte_25_address))).decode('utf-8')\n",
        "\n",
        "address\n",
        "#Finally we carry out a base58Check encoding here.\n",
        "# Where we convert the 25-byte address from a byte string\n",
        "# to a base58 string which is the commonly used standard for bitcoin addresses"
      ],
      "metadata": {
        "colab": {
          "base_uri": "https://localhost:8080/",
          "height": 35
        },
        "id": "BBWl3-6iWEvq",
        "outputId": "04c38c97-b3df-4ddb-8f6d-e7c5db9a1523"
      },
      "execution_count": null,
      "outputs": [
        {
          "output_type": "execute_result",
          "data": {
            "text/plain": [
              "'1GCbtDMYRgEHK6Kn3WJqQ6fdRxSCzfRQKp'"
            ],
            "application/vnd.google.colaboratory.intrinsic+json": {
              "type": "string"
            }
          },
          "metadata": {},
          "execution_count": 58
        }
      ]
    },
    {
      "cell_type": "markdown",
      "source": [
        "And now we have our bitcoin address.\n",
        "\n",
        "You can check it live on the bitcoin blockchain explorer here - https://www.blockchain.com/explorer\n",
        "\n",
        "There you go! You have just created a bitcoin wallet address!\n",
        "\n",
        "Be careful to avoid loss of funds so always make sure to keep your private keys safe and that only you has the access.\n",
        "\n",
        "Thank you and I hope this helps!\n",
        "\n",
        "Any questions? You can connect to me via Element - https://matrix.to/#/@monarch-ts:matrix.org\n",
        "\n",
        "You can download Element here - https://element.io/\n",
        "\n",
        "Learn more about Matrix here - https://matrix.org/\n",
        "\n",
        "For donations, I accept Ethereum on ERC20 Network here - 0x6B99d433de84Cc94dE530b39297d4261348DAdF3 - we use it to fund advanced research on blockchain.\n",
        "\n",
        "Thank you! See you around!\n"
      ],
      "metadata": {
        "id": "RX95ph3OWNPF"
      }
    }
  ]
}